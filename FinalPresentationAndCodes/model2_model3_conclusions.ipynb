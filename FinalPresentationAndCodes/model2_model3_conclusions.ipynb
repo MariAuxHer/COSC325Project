{
 "cells": [
  {
   "cell_type": "code",
   "execution_count": 1,
   "metadata": {},
   "outputs": [],
   "source": [
    "import torch\n",
    "import torch.nn as nn\n",
    "from torchvision import models, datasets, transforms\n",
    "from torch.utils.data import DataLoader, random_split, Subset\n",
    "import torch.optim as optim\n",
    "from tqdm import tqdm  # Import tqdm for progress bar\n",
    "from sklearn.preprocessing import StandardScaler\n",
    "from sklearn.model_selection import train_test_split, GridSearchCV\n",
    "from sklearn.metrics import accuracy_score, precision_score, recall_score, f1_score\n",
    "from sklearn.model_selection import cross_val_score, KFold\n",
    "import numpy as np\n",
    "from sklearn.ensemble import RandomForestClassifier\n",
    "from tqdm import tqdm\n",
    "from sam import SAM  # Ensure SAM is installed or implemented (details below)\n",
    "import inspect"
   ]
  },
  {
   "cell_type": "markdown",
   "metadata": {},
   "source": [
    "NOTES: \n",
    "- To run this code you need to import the SAM class from https://github.com/davda54/sam\n",
    "- Due to very long running times and hardware contraints, we manually fine-tuned hyperparameters in several notebooks to speed up our progress. The conclusions we present at the end of this notebook are gathered from training different models with different hyper-parameters configurations in several jupyter notebooks. However, with this submission we are just uploading two notebooks, this one contains models 2 and 3 presented on the poster and the other notebook contains model 1 (the baseline model)"
   ]
  },
  {
   "cell_type": "markdown",
   "metadata": {},
   "source": [
    "# Data Preprocessing"
   ]
  },
  {
   "cell_type": "markdown",
   "metadata": {},
   "source": [
    "In this notebook, we decided to train our model with the whole training dataset provided by datasets.CIFAR100(train=True) instead of dividing it in training and validation (as we did in several other notebooks) to provide the model with more samples to learn from. "
   ]
  },
  {
   "cell_type": "code",
   "execution_count": null,
   "metadata": {},
   "outputs": [
    {
     "name": "stdout",
     "output_type": "stream",
     "text": [
      "Files already downloaded and verified\n",
      "Files already downloaded and verified\n"
     ]
    }
   ],
   "source": [
    "# Define preprocessing transformations\n",
    "# CIFAR-100 images were resized from 32x32 to 224x224 pixels to match ImageNet-trained EfficientNetB0 model\n",
    "# Images were normalized to match ImageNet's mean and standard deviation\n",
    "transform = transforms.Compose([\n",
    "    transforms.Resize((224, 224)),  # Directly resize to 224x224\n",
    "    transforms.ToTensor(),\n",
    "    transforms.Normalize(mean=(0.485, 0.456, 0.406), std=(0.229, 0.224, 0.225))  # Standard normalization\n",
    "])\n",
    "\n",
    "batch_size=64\n",
    "\n",
    "# Load the CIFAR-100 dataset and divide into training and testing\n",
    "train_dataset = datasets.CIFAR100(root='data', train=True, download=True, transform=transform)\n",
    "test_dataset = datasets.CIFAR100(root='data', train=False, download=True, transform=transform)\n",
    "train_loader = DataLoader(train_dataset, batch_size=batch_size, shuffle=True)\n",
    "test_loader = DataLoader(test_dataset, batch_size=batch_size, shuffle=False)\n"
   ]
  },
  {
   "cell_type": "markdown",
   "metadata": {},
   "source": [
    "# Model 2"
   ]
  },
  {
   "cell_type": "markdown",
   "metadata": {},
   "source": [
    "###  Fine-tuned EfficientNetB0 model trained on the CIFAR-100 dataset.\n",
    "\n",
    "1. EfficientNetB0's classifier layer was adjusted to have 100 output neurons for 100 classes in the CIFAR-100 dataset instead of the 1000 neurons for classifying images from ImageNet.\n",
    "2. We freeze the first three blocks of the EfficientNetB0 model to use these pre-trained features (containing information such as edges or texture), allowing the model concentrate on adapting the higher, task-specific layers to the new dataset.\n",
    "3. Hyperparamters used: \n",
    "- Based optimizer: Adam\n",
    "- SAM optimizer to improve generalization\n",
    "- Starting learning rate: 0.001\n",
    "- Learning rate scheduler: StepLR with a step size of 5 and gamma 0.1 (drops the LR by a factor of 0.1 each 5 epochs)\n",
    "- L2 with a weight decay of 1e-4 to address overfitting.\n",
    "- Loss Function: CrossEntropy Loss\n",
    "- Epochs: 15"
   ]
  },
  {
   "cell_type": "code",
   "execution_count": null,
   "metadata": {},
   "outputs": [
    {
     "name": "stdout",
     "output_type": "stream",
     "text": [
      "features.0.0.weight: requires_grad = False\n",
      "features.0.1.weight: requires_grad = False\n",
      "features.0.1.bias: requires_grad = False\n",
      "features.1.0.block.0.0.weight: requires_grad = False\n",
      "features.1.0.block.0.1.weight: requires_grad = False\n",
      "features.1.0.block.0.1.bias: requires_grad = False\n",
      "features.1.0.block.1.fc1.weight: requires_grad = False\n",
      "features.1.0.block.1.fc1.bias: requires_grad = False\n",
      "features.1.0.block.1.fc2.weight: requires_grad = False\n",
      "features.1.0.block.1.fc2.bias: requires_grad = False\n",
      "features.1.0.block.2.0.weight: requires_grad = False\n",
      "features.1.0.block.2.1.weight: requires_grad = False\n",
      "features.1.0.block.2.1.bias: requires_grad = False\n",
      "features.2.0.block.0.0.weight: requires_grad = False\n",
      "features.2.0.block.0.1.weight: requires_grad = False\n",
      "features.2.0.block.0.1.bias: requires_grad = False\n",
      "features.2.0.block.1.0.weight: requires_grad = False\n",
      "features.2.0.block.1.1.weight: requires_grad = False\n",
      "features.2.0.block.1.1.bias: requires_grad = False\n",
      "features.2.0.block.2.fc1.weight: requires_grad = False\n",
      "features.2.0.block.2.fc1.bias: requires_grad = False\n",
      "features.2.0.block.2.fc2.weight: requires_grad = False\n",
      "features.2.0.block.2.fc2.bias: requires_grad = False\n",
      "features.2.0.block.3.0.weight: requires_grad = False\n",
      "features.2.0.block.3.1.weight: requires_grad = False\n",
      "features.2.0.block.3.1.bias: requires_grad = False\n",
      "features.2.1.block.0.0.weight: requires_grad = False\n",
      "features.2.1.block.0.1.weight: requires_grad = False\n",
      "features.2.1.block.0.1.bias: requires_grad = False\n",
      "features.2.1.block.1.0.weight: requires_grad = False\n",
      "features.2.1.block.1.1.weight: requires_grad = False\n",
      "features.2.1.block.1.1.bias: requires_grad = False\n",
      "features.2.1.block.2.fc1.weight: requires_grad = False\n",
      "features.2.1.block.2.fc1.bias: requires_grad = False\n",
      "features.2.1.block.2.fc2.weight: requires_grad = False\n",
      "features.2.1.block.2.fc2.bias: requires_grad = False\n",
      "features.2.1.block.3.0.weight: requires_grad = False\n",
      "features.2.1.block.3.1.weight: requires_grad = False\n",
      "features.2.1.block.3.1.bias: requires_grad = False\n",
      "features.3.0.block.0.0.weight: requires_grad = True\n",
      "features.3.0.block.0.1.weight: requires_grad = True\n",
      "features.3.0.block.0.1.bias: requires_grad = True\n",
      "features.3.0.block.1.0.weight: requires_grad = True\n",
      "features.3.0.block.1.1.weight: requires_grad = True\n",
      "features.3.0.block.1.1.bias: requires_grad = True\n",
      "features.3.0.block.2.fc1.weight: requires_grad = True\n",
      "features.3.0.block.2.fc1.bias: requires_grad = True\n",
      "features.3.0.block.2.fc2.weight: requires_grad = True\n",
      "features.3.0.block.2.fc2.bias: requires_grad = True\n",
      "features.3.0.block.3.0.weight: requires_grad = True\n",
      "features.3.0.block.3.1.weight: requires_grad = True\n",
      "features.3.0.block.3.1.bias: requires_grad = True\n",
      "features.3.1.block.0.0.weight: requires_grad = True\n",
      "features.3.1.block.0.1.weight: requires_grad = True\n",
      "features.3.1.block.0.1.bias: requires_grad = True\n",
      "features.3.1.block.1.0.weight: requires_grad = True\n",
      "features.3.1.block.1.1.weight: requires_grad = True\n",
      "features.3.1.block.1.1.bias: requires_grad = True\n",
      "features.3.1.block.2.fc1.weight: requires_grad = True\n",
      "features.3.1.block.2.fc1.bias: requires_grad = True\n",
      "features.3.1.block.2.fc2.weight: requires_grad = True\n",
      "features.3.1.block.2.fc2.bias: requires_grad = True\n",
      "features.3.1.block.3.0.weight: requires_grad = True\n",
      "features.3.1.block.3.1.weight: requires_grad = True\n",
      "features.3.1.block.3.1.bias: requires_grad = True\n",
      "features.4.0.block.0.0.weight: requires_grad = True\n",
      "features.4.0.block.0.1.weight: requires_grad = True\n",
      "features.4.0.block.0.1.bias: requires_grad = True\n",
      "features.4.0.block.1.0.weight: requires_grad = True\n",
      "features.4.0.block.1.1.weight: requires_grad = True\n",
      "features.4.0.block.1.1.bias: requires_grad = True\n",
      "features.4.0.block.2.fc1.weight: requires_grad = True\n",
      "features.4.0.block.2.fc1.bias: requires_grad = True\n",
      "features.4.0.block.2.fc2.weight: requires_grad = True\n",
      "features.4.0.block.2.fc2.bias: requires_grad = True\n",
      "features.4.0.block.3.0.weight: requires_grad = True\n",
      "features.4.0.block.3.1.weight: requires_grad = True\n",
      "features.4.0.block.3.1.bias: requires_grad = True\n",
      "features.4.1.block.0.0.weight: requires_grad = True\n",
      "features.4.1.block.0.1.weight: requires_grad = True\n",
      "features.4.1.block.0.1.bias: requires_grad = True\n",
      "features.4.1.block.1.0.weight: requires_grad = True\n",
      "features.4.1.block.1.1.weight: requires_grad = True\n",
      "features.4.1.block.1.1.bias: requires_grad = True\n",
      "features.4.1.block.2.fc1.weight: requires_grad = True\n",
      "features.4.1.block.2.fc1.bias: requires_grad = True\n",
      "features.4.1.block.2.fc2.weight: requires_grad = True\n",
      "features.4.1.block.2.fc2.bias: requires_grad = True\n",
      "features.4.1.block.3.0.weight: requires_grad = True\n",
      "features.4.1.block.3.1.weight: requires_grad = True\n",
      "features.4.1.block.3.1.bias: requires_grad = True\n",
      "features.4.2.block.0.0.weight: requires_grad = True\n",
      "features.4.2.block.0.1.weight: requires_grad = True\n",
      "features.4.2.block.0.1.bias: requires_grad = True\n",
      "features.4.2.block.1.0.weight: requires_grad = True\n",
      "features.4.2.block.1.1.weight: requires_grad = True\n",
      "features.4.2.block.1.1.bias: requires_grad = True\n",
      "features.4.2.block.2.fc1.weight: requires_grad = True\n",
      "features.4.2.block.2.fc1.bias: requires_grad = True\n",
      "features.4.2.block.2.fc2.weight: requires_grad = True\n",
      "features.4.2.block.2.fc2.bias: requires_grad = True\n",
      "features.4.2.block.3.0.weight: requires_grad = True\n",
      "features.4.2.block.3.1.weight: requires_grad = True\n",
      "features.4.2.block.3.1.bias: requires_grad = True\n",
      "features.5.0.block.0.0.weight: requires_grad = True\n",
      "features.5.0.block.0.1.weight: requires_grad = True\n",
      "features.5.0.block.0.1.bias: requires_grad = True\n",
      "features.5.0.block.1.0.weight: requires_grad = True\n",
      "features.5.0.block.1.1.weight: requires_grad = True\n",
      "features.5.0.block.1.1.bias: requires_grad = True\n",
      "features.5.0.block.2.fc1.weight: requires_grad = True\n",
      "features.5.0.block.2.fc1.bias: requires_grad = True\n",
      "features.5.0.block.2.fc2.weight: requires_grad = True\n",
      "features.5.0.block.2.fc2.bias: requires_grad = True\n",
      "features.5.0.block.3.0.weight: requires_grad = True\n",
      "features.5.0.block.3.1.weight: requires_grad = True\n",
      "features.5.0.block.3.1.bias: requires_grad = True\n",
      "features.5.1.block.0.0.weight: requires_grad = True\n",
      "features.5.1.block.0.1.weight: requires_grad = True\n",
      "features.5.1.block.0.1.bias: requires_grad = True\n",
      "features.5.1.block.1.0.weight: requires_grad = True\n",
      "features.5.1.block.1.1.weight: requires_grad = True\n",
      "features.5.1.block.1.1.bias: requires_grad = True\n",
      "features.5.1.block.2.fc1.weight: requires_grad = True\n",
      "features.5.1.block.2.fc1.bias: requires_grad = True\n",
      "features.5.1.block.2.fc2.weight: requires_grad = True\n",
      "features.5.1.block.2.fc2.bias: requires_grad = True\n",
      "features.5.1.block.3.0.weight: requires_grad = True\n",
      "features.5.1.block.3.1.weight: requires_grad = True\n",
      "features.5.1.block.3.1.bias: requires_grad = True\n",
      "features.5.2.block.0.0.weight: requires_grad = True\n",
      "features.5.2.block.0.1.weight: requires_grad = True\n",
      "features.5.2.block.0.1.bias: requires_grad = True\n",
      "features.5.2.block.1.0.weight: requires_grad = True\n",
      "features.5.2.block.1.1.weight: requires_grad = True\n",
      "features.5.2.block.1.1.bias: requires_grad = True\n",
      "features.5.2.block.2.fc1.weight: requires_grad = True\n",
      "features.5.2.block.2.fc1.bias: requires_grad = True\n",
      "features.5.2.block.2.fc2.weight: requires_grad = True\n",
      "features.5.2.block.2.fc2.bias: requires_grad = True\n",
      "features.5.2.block.3.0.weight: requires_grad = True\n",
      "features.5.2.block.3.1.weight: requires_grad = True\n",
      "features.5.2.block.3.1.bias: requires_grad = True\n",
      "features.6.0.block.0.0.weight: requires_grad = True\n",
      "features.6.0.block.0.1.weight: requires_grad = True\n",
      "features.6.0.block.0.1.bias: requires_grad = True\n",
      "features.6.0.block.1.0.weight: requires_grad = True\n",
      "features.6.0.block.1.1.weight: requires_grad = True\n",
      "features.6.0.block.1.1.bias: requires_grad = True\n",
      "features.6.0.block.2.fc1.weight: requires_grad = True\n",
      "features.6.0.block.2.fc1.bias: requires_grad = True\n",
      "features.6.0.block.2.fc2.weight: requires_grad = True\n",
      "features.6.0.block.2.fc2.bias: requires_grad = True\n",
      "features.6.0.block.3.0.weight: requires_grad = True\n",
      "features.6.0.block.3.1.weight: requires_grad = True\n",
      "features.6.0.block.3.1.bias: requires_grad = True\n",
      "features.6.1.block.0.0.weight: requires_grad = True\n",
      "features.6.1.block.0.1.weight: requires_grad = True\n",
      "features.6.1.block.0.1.bias: requires_grad = True\n",
      "features.6.1.block.1.0.weight: requires_grad = True\n",
      "features.6.1.block.1.1.weight: requires_grad = True\n",
      "features.6.1.block.1.1.bias: requires_grad = True\n",
      "features.6.1.block.2.fc1.weight: requires_grad = True\n",
      "features.6.1.block.2.fc1.bias: requires_grad = True\n",
      "features.6.1.block.2.fc2.weight: requires_grad = True\n",
      "features.6.1.block.2.fc2.bias: requires_grad = True\n",
      "features.6.1.block.3.0.weight: requires_grad = True\n",
      "features.6.1.block.3.1.weight: requires_grad = True\n",
      "features.6.1.block.3.1.bias: requires_grad = True\n",
      "features.6.2.block.0.0.weight: requires_grad = True\n",
      "features.6.2.block.0.1.weight: requires_grad = True\n",
      "features.6.2.block.0.1.bias: requires_grad = True\n",
      "features.6.2.block.1.0.weight: requires_grad = True\n",
      "features.6.2.block.1.1.weight: requires_grad = True\n",
      "features.6.2.block.1.1.bias: requires_grad = True\n",
      "features.6.2.block.2.fc1.weight: requires_grad = True\n",
      "features.6.2.block.2.fc1.bias: requires_grad = True\n",
      "features.6.2.block.2.fc2.weight: requires_grad = True\n",
      "features.6.2.block.2.fc2.bias: requires_grad = True\n",
      "features.6.2.block.3.0.weight: requires_grad = True\n",
      "features.6.2.block.3.1.weight: requires_grad = True\n",
      "features.6.2.block.3.1.bias: requires_grad = True\n",
      "features.6.3.block.0.0.weight: requires_grad = True\n",
      "features.6.3.block.0.1.weight: requires_grad = True\n",
      "features.6.3.block.0.1.bias: requires_grad = True\n",
      "features.6.3.block.1.0.weight: requires_grad = True\n",
      "features.6.3.block.1.1.weight: requires_grad = True\n",
      "features.6.3.block.1.1.bias: requires_grad = True\n",
      "features.6.3.block.2.fc1.weight: requires_grad = True\n",
      "features.6.3.block.2.fc1.bias: requires_grad = True\n",
      "features.6.3.block.2.fc2.weight: requires_grad = True\n",
      "features.6.3.block.2.fc2.bias: requires_grad = True\n",
      "features.6.3.block.3.0.weight: requires_grad = True\n",
      "features.6.3.block.3.1.weight: requires_grad = True\n",
      "features.6.3.block.3.1.bias: requires_grad = True\n",
      "features.7.0.block.0.0.weight: requires_grad = True\n",
      "features.7.0.block.0.1.weight: requires_grad = True\n",
      "features.7.0.block.0.1.bias: requires_grad = True\n",
      "features.7.0.block.1.0.weight: requires_grad = True\n",
      "features.7.0.block.1.1.weight: requires_grad = True\n",
      "features.7.0.block.1.1.bias: requires_grad = True\n",
      "features.7.0.block.2.fc1.weight: requires_grad = True\n",
      "features.7.0.block.2.fc1.bias: requires_grad = True\n",
      "features.7.0.block.2.fc2.weight: requires_grad = True\n",
      "features.7.0.block.2.fc2.bias: requires_grad = True\n",
      "features.7.0.block.3.0.weight: requires_grad = True\n",
      "features.7.0.block.3.1.weight: requires_grad = True\n",
      "features.7.0.block.3.1.bias: requires_grad = True\n",
      "features.8.0.weight: requires_grad = True\n",
      "features.8.1.weight: requires_grad = True\n",
      "features.8.1.bias: requires_grad = True\n",
      "classifier.1.weight: requires_grad = True\n",
      "classifier.1.bias: requires_grad = True\n"
     ]
    },
    {
     "name": "stderr",
     "output_type": "stream",
     "text": [
      "Epoch 1/15:   0%|          | 0/782 [00:00<?, ?it/s]/home/csaxon/venv/lib/python3.10/site-packages/torch/nn/modules/conv.py:456: UserWarning: Applied workaround for CuDNN issue, install nvrtc.so (Triggered internally at ../aten/src/ATen/native/cudnn/Conv_v8.cpp:80.)\n",
      "  return F.conv2d(input, weight, bias, self.stride,\n",
      "Epoch 1/15: 100%|██████████| 782/782 [12:29<00:00,  1.04it/s]\n",
      "/home/csaxon/venv/lib/python3.10/site-packages/torch/optim/lr_scheduler.py:143: UserWarning: Detected call of `lr_scheduler.step()` before `optimizer.step()`. In PyTorch 1.1.0 and later, you should call them in the opposite order: `optimizer.step()` before `lr_scheduler.step()`.  Failure to do this will result in PyTorch skipping the first value of the learning rate schedule. See more details at https://pytorch.org/docs/stable/optim.html#how-to-adjust-learning-rate\n",
      "  warnings.warn(\"Detected call of `lr_scheduler.step()` before `optimizer.step()`. \"\n"
     ]
    },
    {
     "name": "stdout",
     "output_type": "stream",
     "text": [
      "Epoch 1: Train Accuracy: 0.6106, Loss: 1.4041\n",
      "Epoch 1, Learning Rate: 0.001000\n"
     ]
    },
    {
     "name": "stderr",
     "output_type": "stream",
     "text": [
      "Epoch 2/15: 100%|██████████| 782/782 [12:25<00:00,  1.05it/s]\n"
     ]
    },
    {
     "name": "stdout",
     "output_type": "stream",
     "text": [
      "Epoch 2: Train Accuracy: 0.7583, Loss: 0.8032\n",
      "Epoch 2, Learning Rate: 0.001000\n"
     ]
    },
    {
     "name": "stderr",
     "output_type": "stream",
     "text": [
      "Epoch 3/15: 100%|██████████| 782/782 [12:25<00:00,  1.05it/s]\n"
     ]
    },
    {
     "name": "stdout",
     "output_type": "stream",
     "text": [
      "Epoch 3: Train Accuracy: 0.8051, Loss: 0.6360\n",
      "Epoch 3, Learning Rate: 0.001000\n"
     ]
    },
    {
     "name": "stderr",
     "output_type": "stream",
     "text": [
      "Epoch 4/15: 100%|██████████| 782/782 [12:25<00:00,  1.05it/s]\n"
     ]
    },
    {
     "name": "stdout",
     "output_type": "stream",
     "text": [
      "Epoch 4: Train Accuracy: 0.8271, Loss: 0.5527\n",
      "Epoch 4, Learning Rate: 0.001000\n"
     ]
    },
    {
     "name": "stderr",
     "output_type": "stream",
     "text": [
      "Epoch 5/15: 100%|██████████| 782/782 [12:25<00:00,  1.05it/s]\n"
     ]
    },
    {
     "name": "stdout",
     "output_type": "stream",
     "text": [
      "Epoch 5: Train Accuracy: 0.8463, Loss: 0.4924\n",
      "Epoch 5, Learning Rate: 0.000100\n"
     ]
    },
    {
     "name": "stderr",
     "output_type": "stream",
     "text": [
      "Epoch 6/15: 100%|██████████| 782/782 [12:26<00:00,  1.05it/s]\n"
     ]
    },
    {
     "name": "stdout",
     "output_type": "stream",
     "text": [
      "Epoch 6: Train Accuracy: 0.9326, Loss: 0.2284\n",
      "Epoch 6, Learning Rate: 0.000100\n"
     ]
    },
    {
     "name": "stderr",
     "output_type": "stream",
     "text": [
      "Epoch 7/15: 100%|██████████| 782/782 [12:26<00:00,  1.05it/s]\n"
     ]
    },
    {
     "name": "stdout",
     "output_type": "stream",
     "text": [
      "Epoch 7: Train Accuracy: 0.9625, Loss: 0.1359\n",
      "Epoch 7, Learning Rate: 0.000100\n"
     ]
    },
    {
     "name": "stderr",
     "output_type": "stream",
     "text": [
      "Epoch 8/15: 100%|██████████| 782/782 [12:25<00:00,  1.05it/s]\n"
     ]
    },
    {
     "name": "stdout",
     "output_type": "stream",
     "text": [
      "Epoch 8: Train Accuracy: 0.9748, Loss: 0.0999\n",
      "Epoch 8, Learning Rate: 0.000100\n"
     ]
    },
    {
     "name": "stderr",
     "output_type": "stream",
     "text": [
      "Epoch 9/15: 100%|██████████| 782/782 [12:24<00:00,  1.05it/s]\n"
     ]
    },
    {
     "name": "stdout",
     "output_type": "stream",
     "text": [
      "Epoch 9: Train Accuracy: 0.9812, Loss: 0.0769\n",
      "Epoch 9, Learning Rate: 0.000100\n"
     ]
    },
    {
     "name": "stderr",
     "output_type": "stream",
     "text": [
      "Epoch 10/15: 100%|██████████| 782/782 [12:26<00:00,  1.05it/s]\n"
     ]
    },
    {
     "name": "stdout",
     "output_type": "stream",
     "text": [
      "Epoch 10: Train Accuracy: 0.9860, Loss: 0.0630\n",
      "Epoch 10, Learning Rate: 0.000010\n"
     ]
    },
    {
     "name": "stderr",
     "output_type": "stream",
     "text": [
      "Epoch 11/15: 100%|██████████| 782/782 [12:25<00:00,  1.05it/s]\n"
     ]
    },
    {
     "name": "stdout",
     "output_type": "stream",
     "text": [
      "Epoch 11: Train Accuracy: 0.9914, Loss: 0.0463\n",
      "Epoch 11, Learning Rate: 0.000010\n"
     ]
    },
    {
     "name": "stderr",
     "output_type": "stream",
     "text": [
      "Epoch 12/15: 100%|██████████| 782/782 [12:25<00:00,  1.05it/s]\n"
     ]
    },
    {
     "name": "stdout",
     "output_type": "stream",
     "text": [
      "Epoch 12: Train Accuracy: 0.9917, Loss: 0.0434\n",
      "Epoch 12, Learning Rate: 0.000010\n"
     ]
    },
    {
     "name": "stderr",
     "output_type": "stream",
     "text": [
      "Epoch 13/15: 100%|██████████| 782/782 [12:25<00:00,  1.05it/s]\n"
     ]
    },
    {
     "name": "stdout",
     "output_type": "stream",
     "text": [
      "Epoch 13: Train Accuracy: 0.9931, Loss: 0.0396\n",
      "Epoch 13, Learning Rate: 0.000010\n"
     ]
    },
    {
     "name": "stderr",
     "output_type": "stream",
     "text": [
      "Epoch 14/15: 100%|██████████| 782/782 [12:26<00:00,  1.05it/s]\n"
     ]
    },
    {
     "name": "stdout",
     "output_type": "stream",
     "text": [
      "Epoch 14: Train Accuracy: 0.9933, Loss: 0.0383\n",
      "Epoch 14, Learning Rate: 0.000010\n"
     ]
    },
    {
     "name": "stderr",
     "output_type": "stream",
     "text": [
      "Epoch 15/15: 100%|██████████| 782/782 [12:27<00:00,  1.05it/s]"
     ]
    },
    {
     "name": "stdout",
     "output_type": "stream",
     "text": [
      "Epoch 15: Train Accuracy: 0.9940, Loss: 0.0362\n",
      "Epoch 15, Learning Rate: 0.000001\n",
      "EfficientNet fine-tuning with SAM complete.\n"
     ]
    },
    {
     "name": "stderr",
     "output_type": "stream",
     "text": [
      "\n"
     ]
    }
   ],
   "source": [
    "# Load EfficientNet\n",
    "num_classes = 100\n",
    "device = 'cuda' if torch.cuda.is_available() else 'cpu'\n",
    "\n",
    "efficientnet = models.efficientnet_b0(weights='IMAGENET1K_V1')      # Using EfficientNet-B0\n",
    "num_features = efficientnet.classifier[1].in_features               # Input features to the classifier layer\n",
    "efficientnet.classifier[1] = nn.Linear(num_features, num_classes)   # Replace for CIFAR-100\n",
    "nn.init.xavier_uniform_(efficientnet.classifier[1].weight)\n",
    "efficientnet.classifier[1].bias.data.fill_(0.0)\n",
    "\n",
    "# Number of blocks to freeze (e.g., first 3 blocks)\n",
    "num_blocks_to_freeze = 3\n",
    "\n",
    "# Iterate over the features and freeze the first few blocks\n",
    "for idx, block in enumerate(efficientnet.features):\n",
    "    if idx < num_blocks_to_freeze:  # Freeze the first `num_blocks_to_freeze` blocks\n",
    "        for param in block.parameters():\n",
    "            param.requires_grad = False\n",
    "    else:\n",
    "        break  # No need to iterate further once we've frozen the required blocks\n",
    "\n",
    "# Verify which layers are frozen\n",
    "for name, param in efficientnet.named_parameters():\n",
    "    print(f\"{name}: requires_grad = {param.requires_grad}\")\n",
    "\n",
    "efficientnet.to(device)\n",
    "\n",
    "# Loss Function\n",
    "criterion = nn.CrossEntropyLoss()\n",
    "\n",
    "# SAM Optimizer\n",
    "base_optimizer = torch.optim.Adam  # Base optimizer for SAM\n",
    "optimizer = SAM(efficientnet.parameters(), base_optimizer, lr=0.001, weight_decay=1e-4)\n",
    "scheduler = optim.lr_scheduler.StepLR(optimizer, step_size=5, gamma=0.1)\n",
    "\n",
    "\n",
    "# Training Loop with SAM\n",
    "epochs = 15\n",
    "train_accuracy_per_epoch = []\n",
    "train_loss_per_epoch = []\n",
    "\n",
    "for epoch in range(epochs):\n",
    "    efficientnet.train()\n",
    "    epoch_loss = 0        \n",
    "    n_correct = 0\n",
    "    n_examples = 0\n",
    "\n",
    "    for images, labels in tqdm(train_loader, desc=f\"Epoch {epoch+1}/{epochs}\"):\n",
    "        images, labels = images.to(device), labels.to(device)\n",
    "\n",
    "        # Forward pass\n",
    "        outputs = efficientnet(images)\n",
    "        loss = criterion(outputs, labels)\n",
    "\n",
    "        # First step of SAM\n",
    "        loss.backward()\n",
    "        optimizer.first_step(zero_grad=True)\n",
    "\n",
    "        # Second step of SAM\n",
    "        criterion(efficientnet(images), labels).backward()\n",
    "        optimizer.second_step(zero_grad=True)\n",
    "\n",
    "        # Convert logits to predictions\n",
    "        predicted_labels = torch.argmax(outputs, dim=1)\n",
    "        n_correct += (predicted_labels == labels).sum().item()\n",
    "        epoch_loss += loss.item()\n",
    "        n_examples += labels.size(0)\n",
    "\n",
    "    # Calculate and store metrics for this epoch\n",
    "    train_accuracy_per_epoch.append(n_correct / n_examples)\n",
    "    train_loss_per_epoch.append(epoch_loss / len(train_loader))\n",
    "    print(f\"Epoch {epoch+1}: Train Accuracy: {train_accuracy_per_epoch[-1]:.4f}, Loss: {train_loss_per_epoch[-1]:.4f}\")\n",
    "    # Update the learning rate\n",
    "    scheduler.step()\n",
    " \n",
    "    # Print current learning rate\n",
    "    current_lr = scheduler.get_last_lr()[0]\n",
    "    print(f\"Epoch {epoch+1}, Learning Rate: {current_lr:.6f}\")\n",
    "\n",
    "print(\"EfficientNet fine-tuning with SAM complete.\")"
   ]
  },
  {
   "cell_type": "code",
   "execution_count": null,
   "metadata": {},
   "outputs": [
    {
     "name": "stderr",
     "output_type": "stream",
     "text": [
      "Validating: 100%|██████████| 157/157 [00:47<00:00,  3.29it/s]"
     ]
    },
    {
     "name": "stdout",
     "output_type": "stream",
     "text": [
      "Test Loss: 0.6531, test Accuracy: 0.83%\n"
     ]
    },
    {
     "name": "stderr",
     "output_type": "stream",
     "text": [
      "\n"
     ]
    }
   ],
   "source": [
    "# Validation part of the model\n",
    "efficientnet.eval()  # Set model to evaluation mode\n",
    "test_loss = 0\n",
    "n_correct = 0\n",
    "n_examples = 0\n",
    "\n",
    "test_accuracy = 0\n",
    "\n",
    "# Disable gradients for test\n",
    "with torch.no_grad():  \n",
    "    for examples, labels in tqdm(test_loader, desc=\"Validating\"):\n",
    "\n",
    "        # Forward pass\n",
    "        logits = efficientnet(examples.to(device))  \n",
    "\n",
    "        # Calculate loss\n",
    "        loss = criterion(logits, labels.to(device))  \n",
    "        \n",
    "        # Convert logits to predictions\n",
    "        predicted_labels = torch.argmax(logits, dim=1)\n",
    "        n_correct += (predicted_labels == labels.to(device)).sum().item()\n",
    "        test_loss += loss.item()\n",
    "        n_examples += labels.size(0)\n",
    "\n",
    "#  Ratio of correct predictions (n_correct) to the total number of examples processed (n_examples)\n",
    "test_accuracy = n_correct / n_examples\n",
    "\n",
    "# Average batch loss\n",
    "print(f\"Test Loss: {test_loss / len(test_loader):.4f}, test Accuracy: {test_accuracy:.2f}%\")"
   ]
  },
  {
   "cell_type": "markdown",
   "metadata": {},
   "source": [
    "Note: I forgot to multiply the test accuracy * 100 to get the percentage here, but the test accuracy is 83%"
   ]
  },
  {
   "cell_type": "markdown",
   "metadata": {},
   "source": [
    "# Model 3"
   ]
  },
  {
   "cell_type": "markdown",
   "metadata": {},
   "source": [
    "The convolutional layers of Model 2 were utilized to extract high-level features, replacing the model's classification layer with a RandomForest classifier for the task."
   ]
  },
  {
   "cell_type": "code",
   "execution_count": 6,
   "metadata": {},
   "outputs": [],
   "source": [
    "# Feature Extraction\n",
    "efficientnet.classifier[1] = nn.Identity()  # Remove classifier layer"
   ]
  },
  {
   "cell_type": "markdown",
   "metadata": {},
   "source": [
    "## Using fine-tuned model as a feature extractor"
   ]
  },
  {
   "cell_type": "code",
   "execution_count": null,
   "metadata": {},
   "outputs": [],
   "source": [
    "efficientnet.eval()  # Set to evaluation mode\n",
    "# Feature Extraction Function\n",
    "def extract_features(dataloader, model):\n",
    "    features, labels = [], []\n",
    "    with torch.no_grad():\n",
    "        for images, targets in dataloader:\n",
    "            images = images.to(device)\n",
    "            outputs = model(images)                         # Extract features\n",
    "            outputs = outputs.view(outputs.size(0), -1)     # Flatten\n",
    "            features.append(outputs.cpu().numpy())\n",
    "            labels.append(targets.numpy())\n",
    "    features = np.concatenate(features, axis=0)\n",
    "    labels = np.concatenate(labels, axis=0)\n",
    "    return features, labels"
   ]
  },
  {
   "cell_type": "code",
   "execution_count": 8,
   "metadata": {},
   "outputs": [
    {
     "name": "stdout",
     "output_type": "stream",
     "text": [
      "Train Features: (50000, 1280), Train Labels: (50000,)\n",
      "Test Features: (10000, 1280), Test Labels: (10000,)\n"
     ]
    }
   ],
   "source": [
    "# Extract Features\n",
    "train_features, train_labels = extract_features(train_loader, efficientnet)\n",
    "test_features, test_labels = extract_features(test_loader, efficientnet)\n",
    "\n",
    "print(f\"Train Features: {train_features.shape}, Train Labels: {train_labels.shape}\")\n",
    "print(f\"Test Features: {test_features.shape}, Test Labels: {test_labels.shape}\")\n",
    "\n",
    "# Train Features: (50000, 1280)\n",
    "# Test Features: (10000, 1280)"
   ]
  },
  {
   "cell_type": "markdown",
   "metadata": {},
   "source": [
    "## Train a Random Forest Model on the features extracted through the fine-tuned EfficientNetB0 model"
   ]
  },
  {
   "cell_type": "code",
   "execution_count": 10,
   "metadata": {},
   "outputs": [
    {
     "name": "stdout",
     "output_type": "stream",
     "text": [
      "Train Accuracy: 0.9998\n",
      "Random Forest training complete.\n"
     ]
    }
   ],
   "source": [
    "# Train Random Forest\n",
    "rf = RandomForestClassifier(n_estimators=300, random_state=42, max_depth=30, min_samples_split=5)\n",
    "rf.fit(train_features, train_labels)\n",
    "\n",
    "train_predictions = rf.predict(train_features)\n",
    "accuracy = accuracy_score(train_labels, train_predictions)\n",
    "print(f\"Train Accuracy: {accuracy:.4f}\")\n",
    "print(\"Random Forest training complete.\")"
   ]
  },
  {
   "cell_type": "code",
   "execution_count": 11,
   "metadata": {},
   "outputs": [
    {
     "name": "stdout",
     "output_type": "stream",
     "text": [
      "Test Accuracy: 0.8163\n"
     ]
    }
   ],
   "source": [
    "# Test Random Forest\n",
    "predictions = rf.predict(test_features)\n",
    "accuracy = accuracy_score(test_labels, predictions)\n",
    "print(f\"Test Accuracy: {accuracy:.4f}\")"
   ]
  },
  {
   "cell_type": "markdown",
   "metadata": {},
   "source": [
    "We tried to perform Grid-Search trying different combinations of hyper-parameters on the RandomForest model, but we never could finish running these because of hardware contraints: Kernel kept crashing, running time was excessively long, etc."
   ]
  },
  {
   "cell_type": "code",
   "execution_count": null,
   "metadata": {},
   "outputs": [],
   "source": [
    "# # Train Random Forest\n",
    "# params = {\n",
    "#     'n_estimators': [100, 200, 300],\n",
    "#     'max_depth': [None, 10, 20, 30],\n",
    "#     'min_samples_split': [2, 5, 10]\n",
    "# }\n",
    "# grid_search = GridSearchCV(RandomForestClassifier(), param_grid=params, cv=5)\n",
    "# grid_search.fit(train_features, train_labels)\n",
    "# print(f\"Best Parameters: {grid_search.best_params_}\")\n",
    "\n",
    "# train_predictions = grid_search.predict(train_features)\n",
    "# accuracy = accuracy_score(train_labels, train_predictions)\n",
    "# print(f\"Training Accuracy: {accuracy:.4f}\")\n",
    "# print(\"Random Forest training complete.\")\n",
    "\n",
    "# # Test Random Forest\n",
    "# predictions = grid_search.predict(test_features)\n",
    "# accuracy = accuracy_score(test_labels, predictions)\n",
    "# print(f\"Test Accuracy: {accuracy:.4f}\")"
   ]
  },
  {
   "cell_type": "markdown",
   "metadata": {},
   "source": [
    "# Conclusions"
   ]
  },
  {
   "cell_type": "markdown",
   "metadata": {},
   "source": [
    "- Regularization techniques like weight decay (L2) and\n",
    "dropout reduced overfitting, mainly in model 1.\n",
    "- Model 1: 99% training, 94% validation accuracy. (on a separate notebook)\n",
    "- Model 2: ~99% training, 83% test accuracy.\n",
    "- Model 3: ~99% training, 81% test accuracy.\n",
    "- Limited computational resources constrained model epochs and further improvements.\n",
    "- EfficientNetB0 achieved ~83% test accuracy on CIFAR-100, surpassing ResNet18’s test accuracy on CIFAR-100 (~70%) due to its balanced scaling of width, depth, and resolution.\n",
    "- ResNet18 performed well on CIFAR-10, likely due to its architectural design being well-suited for simpler datasets.\n",
    "- The EfficientNetB0’s fully connected layer slightly outperformed RandomForest for classification.\n",
    "- Fewer examples per class in CIFAR-100 increases the risk of overfitting compared to CIFAR-10\n",
    "- In another notebook, we used Dropout in Combination with the SAM optimizer to imrpove generalization. As expected the training accuracy dropped, and also did the testing accuracy. An interesting result is that the training process was smoother (did not present sudden jumps). However, we believe that this is due to using another learning rate scheduler CosineAnnealingLR with T_max=30 & eta_min=1e-5, which allowed the learning rate to be adjusted in a smoother manner ultimately resulting in a more stable training process."
   ]
  },
  {
   "cell_type": "markdown",
   "metadata": {},
   "source": [
    "# Choice of a learning rate scheduler in training process"
   ]
  },
  {
   "cell_type": "markdown",
   "metadata": {},
   "source": [
    "### Training process with CosineAnnealingLR\n",
    "It appears more smooth and steady in comparison to using stepLR"
   ]
  },
  {
   "cell_type": "code",
   "execution_count": null,
   "metadata": {},
   "outputs": [
    {
     "data": {
      "image/png": "[encoded data removed]",
      "text/plain": [
       "<Figure size 640x480 with 1 Axes>"
      ]
     },
     "metadata": {},
     "output_type": "display_data"
    }
   ],
   "source": [
    "import matplotlib.pyplot as plt\n",
    "import matplotlib.image as mpimg\n",
    "\n",
    "# Load the image\n",
    "image_path = 'training_vs_validation_accuracy_with_cosineSchedulerAndDropout.png'  # Replace with your image filename\n",
    "img = mpimg.imread(image_path)\n",
    "\n",
    "# Display the image\n",
    "plt.imshow(img)\n",
    "plt.axis('off')  \n",
    "plt.show()\n"
   ]
  },
  {
   "cell_type": "code",
   "execution_count": 7,
   "metadata": {},
   "outputs": [
    {
     "data": {
      "image/png": "[encoded data removed]",
      "text/plain": [
       "<Figure size 640x480 with 1 Axes>"
      ]
     },
     "metadata": {},
     "output_type": "display_data"
    }
   ],
   "source": [
    "# Load the image\n",
    "image_path = 'training_vs_validation_loss_with_cosineSchedulerAndDropout.png'  # Replace with your image filename\n",
    "img = mpimg.imread(image_path)\n",
    "\n",
    "# Display the image\n",
    "plt.imshow(img)\n",
    "plt.axis('off')  \n",
    "plt.show()"
   ]
  },
  {
   "cell_type": "markdown",
   "metadata": {},
   "source": [
    "### Training with StepLR"
   ]
  },
  {
   "cell_type": "code",
   "execution_count": 8,
   "metadata": {},
   "outputs": [
    {
     "data": {
      "image/png": "[encoded data removed]",
      "text/plain": [
       "<Figure size 640x480 with 1 Axes>"
      ]
     },
     "metadata": {},
     "output_type": "display_data"
    }
   ],
   "source": [
    "# Load the image\n",
    "image_path = 'accuracy_and_loss_with_stepLR_and_nodropout.png'  # Replace with your image filename\n",
    "img = mpimg.imread(image_path)\n",
    "\n",
    "# Display the image\n",
    "plt.imshow(img)\n",
    "plt.axis('off')  \n",
    "plt.show()"
   ]
  },
  {
   "cell_type": "markdown",
   "metadata": {},
   "source": [
    "We can observed that the training process is smoother, but overfitting is still pretty evident. As stated before, fewer examples per class in CIFAR-100 increases the risk of overfitting compared to CIFAR-10. These results are evident in the testing accuracies obtained in model 1 (trained on CIFAR-10), and models 2 and 3 (trained on CIFAR-100)."
   ]
  },
  {
   "cell_type": "markdown",
   "metadata": {},
   "source": []
  }
 ],
 "metadata": {
  "kernelspec": {
   "display_name": "venv",
   "language": "python",
   "name": "python3"
  },
  "language_info": {
   "codemirror_mode": {
    "name": "ipython",
    "version": 3
   },
   "file_extension": ".py",
   "mimetype": "text/x-python",
   "name": "python",
   "nbconvert_exporter": "python",
   "pygments_lexer": "ipython3",
   "version": "3.10.12"
  }
 },
 "nbformat": 4,
 "nbformat_minor": 2
}
